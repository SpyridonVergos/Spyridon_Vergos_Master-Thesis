{
 "cells": [
  {
   "cell_type": "markdown",
   "metadata": {},
   "source": [
    "\n",
    "# MLP vs LSTM Neural networks for Athens stock exchange index forecast. \n",
    "Spyridon G. Vergos | An interactive notebook based on my Thesis for Msc in Banking and Finance "
   ]
  },
    {
   "cell_type": "markdown",
   "metadata": {},
   "source": [
    "\n",
    "### Abstract \n", 
    "The fields of big data analysis and deep learning are developing fast recently mainly due to the vast availability of data sets online and the unpreceded cheap computational power of cloud services. LSTM Neural Networks is a specialized function approximator for time-series problems. It involves memory neurons that can overcome the training problems faced by classical Recurrent Neural Networks with very deep architectures. In this Thesis, we use an LSTM Neural Network to test the Efficient Market Hypothesis introduced by Eugene Fama by attempting to forecast the movement of the Greek Index Future FTSE/ATHEX Large Cap. Additionally, we compare the performance of our LSTM model performance with a Multilayered Perceptron using as variables autoregressive terms of our dataset. We conclude that the performed accuracy is impressive nevertheless it might be attributed to the good fitting of the model in the out of sample data and lack of exposure to LSTM of the particular market. Finally, we suggest ideas for further research."
    
   ]
  },
  {
   "cell_type": "markdown",
   "metadata": {},
   "source": [
    " \n",
    "### Introduction \n", 
    " The limitations of the single-layered neural network demonstrated\n",
    "were decisive for the dereliction in Neural Network research during\n",
    "the 1970s. The discovery of the Multilayered Neural Network\n",
    "trained by backpropagation of errors emerged as a tool for\n",
    "solving a variety of problems (Rumelhart, et al. 1986).\n",
    "As illustrated in figure 4. a Multi-Layer Perceptron has a minimum\n",
    "of three layers of nodes (neurons):\n",
    "The input layer (X), the\n",
    "“hidden” layer (Z) and the output layer (y). Observing formula (8) we \n",
    "can\n",
    "remark\n",
    "that\n",
    "it\n",
    "practically\n",
    "equals\n",
    "the\n",
    "Universal\n",
    "Approximation Theorem formula (4) in section 3.1 as long as the\n",
    "activation function stays linear (Haykin, 1998). What is important to\n",
    "notice is that the output of the first layer is again multiplied by a\n",
    "second weight matrix and fed to a new layer of nodes.\n",
    "Considering that the outputs of the layers are non-linear we can\n",
    "imagine the level of complexity built over time.\n"
   ]
  },
  {
   "cell_type": "markdown",
   "metadata": {},
   "source": [
    "(4)![Screenshot%20from166%202018-10-18%2023-53-26.png](graphs/Screenshot%20from166%202018-10-18%2023-53-26.png)"
   ]
  },
  {
   "cell_type": "markdown",
   "metadata": {},
   "source": [
    "![Screenshot120%20from%202018-10-18%2020-47-54.png](graphs/Screenshot120%20from%202018-10-18%2020-47-54.png)"
   ]
  },
  {
   "cell_type": "markdown",
   "metadata": {},
   "source": [
    "![Screenshot132%20from%202018-10-18%2020-49-02.png](graphs/Screenshot132%20from%202018-10-18%2020-49-02.png)"
   ]
  },
  {
   "cell_type": "markdown",
   "metadata": {},
   "source": [
    "Hochreiter and Schimidhuber (1997) introduced the LSTM (long\n",
    "short-term memory) network as a special Recurrent Neural\n",
    "network type which can capture autoregressive structures of\n",
    "arbitrary length. Contrary to a regular RNN the LSTM doesn’t need\n",
    "a predetermined number of “feedback loops”.\n",
    "\n",
    "The Long Short-Term Memory Neural Networks have been used to\n",
    "model\n",
    "functions\n",
    "for\n",
    "language\n",
    "translation\n",
    "applications\n",
    "(Sundermeyer et al., 2012), music recognition software (Eck and\n",
    "Schmidhuber, 2002), speech recognition programs (Graves et al.,\n",
    "2013) and facial motion capture (Wollmer et al., 2012).\n",
    "Research results for the past three years revealed that LSTM\n",
    "Networks show significant Improvements compared to state of the\n",
    "art deep traditional multilayered perceptrons (Graves et al., 2013).\n",
    "Hinton et al. (2012) mention that despite the broad recent use of\n",
    "neural networks few academic papers are using LSTMS in their\n",
    "methodology. The graphical representation of an LSTM is complex. Contrary to the Multilayer Perceptron the lines weights and gates are scattered in a way that is visually inconvenient to understand.\n",
    "Figure 6 is a clean example found in the bibliography. The main\n",
    "advantages of the LSTM can be summarized as:\n",
    "\n",
    "•\n",
    "They overcome the RNN limitations of vanishing and exploding\n",
    "gradients.\n",
    "\n",
    "•\n",
    "Use memory in a way that handles the issue of long-term\n",
    "dependency of input sequences.\n",
    "\n",
    "•\n",
    "Allow processing input and output sequences each time step\n",
    "at a time, allowing different length inputs and outputs."
   ]
  },
  {
   "cell_type": "markdown",
   "metadata": {},
   "source": [
    "(6)![Screenshot188%20from%202018-10-19%2000-00-08.png](graphs/Screenshot188%20from%202018-10-19%2000-00-08.png)"
   ]
  },
  {
   "cell_type": "markdown",
   "metadata": {},
   "source": [
    "\n",
    "\n",
    "LSTM networks use LSTM blocks as neurons similar to the system in\n",
    "formula (23) in contrast with feedforward neural networks. The\n",
    "LSTM blocks are comparable to a differentiable computer’s\n",
    "memory chip. Every one of them consists of a group of recurrently\n",
    "connected memory cells and three multiplicative units. An input,\n",
    "an output and a forget gate that are the read, write and reset\n",
    "operators for the cells. The gates are the interaction mediums\n",
    "between the cells and the network (Graves and Schmidhuber\n",
    "2005)."
   ]
  },
  {
   "cell_type": "markdown",
   "metadata": {},
   "source": [
    "![Screenshot3%20from%202018-10-16%2019-33-33.png](graphs/Screenshot3%20from%202018-10-16%2019-33-33.png)"
   ]
  },
  {
   "cell_type": "markdown",
   "metadata": {},
   "source": [
    "Formula (23) describes the LSTM block with its recurrent attributes.For example,h t−1 is the output vector for t −1 and is included in the calculation of h t . The ft gate of the LSTM block is the forget gate which controls the information that is to be forgotten by the cell state, c t . The sigmoid function effectively wraps the linear expression and maps it between values 0 and 1. Whenever f t is set to 0 by the optimizer the value is “forgotten in the calculation. The latest information stored into the cell state is controlled by gate i t and the output comes from gate ot. Then the cell state and the output gate are merged in\n",
    "output vector h t"
   ]
  },
  {
   "cell_type": "markdown",
   "metadata": {},
   "source": [
    "Since we will be using a sophisticated LSTM model for evaluating our hypothesis we will use a wider topology within each layer. Its architecture will be consisted of three hidden layers of neurons. \n",
    "The first hidden layer will include 4 neurons, the second 50 and the third 100. \n",
    "The last two layers are going to be optimized by a dropout regularization layer which will drop half of the neurons in each epoch.The learning algorithm of choice for our artificial neural networks is the adaptive moment estimation (ADAM) method. The model is saved in h5 format and the data is the Athens stock exchange ATHEX index dayly returns from 22 January 2001 to 20 october 2017.The output layer is going to be wrapped by a SoftMax function as in formula (27)."
   ]
  },
  {
   "cell_type": "markdown",
   "metadata": {},
   "source": [
    "![Screenshot%20from%202018-10-16%2018-09-35.png](graphs/Screenshot%20from%202018-10-16%2018-09-35.png)"
   ]
  },
  {
   "cell_type": "markdown",
   "metadata": {},
   "source": [
    "## List of Hyperparameters for the LSTM Neural Network\n",
    "\n",
    " Learning algorithm Adaptive Moment Estimation: (ADAM)\n",
    "\n",
    " Loss Function Mean Average: Error\n",
    "\n",
    " Learning rate: 0.001\n",
    "\n",
    " Momentum: 0.003\n",
    "\n",
    " Batch size: 1\n",
    "\n",
    " Epochs: 200\n",
    "\n",
    " Initialization of weights: N (0.1)\n",
    "\n",
    " Input Neurons: 1\n",
    "\n",
    " Hidden Layers: 3\n",
    "\n",
    " Hidden Neurons: 4, 50, 100\n",
    "\n",
    " Output Neurons: 1 \n",
    "\n",
    "### Explanatory variables............................lag\n",
    "\n",
    "1. FTSE/ATHEX Large Cap returns............................1\n",
    "\n",
    "2. FTSE/ATHEX Large Cap returnns..........................2\n",
    "\n",
    "3. FTSE/ATHEX Large Cap returns............................3"
   ]
  },
  {
   "cell_type": "markdown",
   "metadata": {},
   "source": [
    "## The Dataset\n",
    "\n",
    "\n",
    " #### Athens Stock Exchange FTSE/ATHEX Large Cap index returns from 22 January 2001 20 October 2017\n",
    "  \n",
    "Total dataset.......... 4152 \n",
    "\n",
    "Training dataset..... 2782 \n",
    "\n",
    "Test dataset 685....... 13         \n",
    "\n"
   ]
  },
  {
   "cell_type": "markdown",
   "metadata": {},
   "source": [
    "### The Python code below accepts and processes the timeseries dataset. Then it accepts the .h5 model files where the neural network weights and topology are saved and makes predictions using the data."
   ]
  },
  {
   "cell_type": "code",
   "execution_count": 1,
   "metadata": {
    "scrolled": false
   },
   "outputs": [
    {
     "name": "stderr",
     "output_type": "stream",
     "text": [
      "Using TensorFlow backend.\n",
      "/home/spiros/.local/lib/python3.6/site-packages/keras/models.py:291: UserWarning: Error in loading the saved optimizer state. As a result, your model is starting with a freshly initialized optimizer.\n",
      "  warnings.warn('Error in loading the saved optimizer '\n"
     ]
    }
   ],
   "source": [
    "from keras.models import load_model\n",
    "import numpy\n",
    "\n",
    "import matplotlib.pyplot as plt\n",
    "from pandas import read_csv\n",
    "import math\n",
    "from sklearn.preprocessing import MinMaxScaler\n",
    "from sklearn.metrics import mean_squared_error\n",
    "from sklearn.metrics import mean_absolute_error\n",
    "from sklearn.metrics import r2_score\n",
    "\n",
    "def create_dataset(dataset, look_back=1):\n",
    "\tdataX, dataY = [], []\n",
    "\tfor i in range(len(dataset)-look_back-1):\n",
    "\t\ta = dataset[i:(i+look_back), 0]\n",
    "\t\tdataX.append(a)\n",
    "\t\tdataY.append(dataset[i + look_back, 0])\n",
    "\treturn numpy.array(dataX), numpy.array(dataY)\n",
    "\n",
    "numpy.random.seed(7)\n",
    "\n",
    " \n",
    "dataframe = read_csv('./DATASETS/2001-2017-ATHEX-RETURNS.csv', usecols=[1], engine='python', skipfooter=3)\n",
    "dataset = dataframe.values\n",
    "dataset = dataset.astype('float32')\n",
    "\n",
    "scaler = MinMaxScaler(feature_range=(-1, 1))\n",
    "dataset = scaler.fit_transform(dataset)\n",
    "\n",
    "train_size = int(len(dataset) * 0.67)\n",
    "test_size = len(dataset) - train_size\n",
    "train, test = dataset[0:train_size,:], dataset[train_size:len(dataset),:]\n",
    "\n",
    "look_back = 5\n",
    "trainX, trainY = create_dataset(train, look_back)\n",
    "testX, testY = create_dataset(test, look_back)\n",
    "\n",
    "look_back2 = 3\n",
    "trainX2, trainY2 = create_dataset(train, look_back2)\n",
    "testX2, testY2 = create_dataset(test, look_back2)\n",
    "\n",
    "trainX2 = numpy.reshape(trainX2, (trainX2.shape[0], trainX2.shape[1], 1))\n",
    "testX2 = numpy.reshape(testX2, (testX2.shape[0], testX2.shape[1], 1))\n",
    "\n",
    "batch_size = 1 \n",
    "\n",
    "model = load_model('./MODELS/MLP2.h5')\n",
    "\n",
    "model2 = load_model('./MODELS/LSTM.h5')\n",
    "\n",
    "trainPredict = model.predict(trainX, batch_size=batch_size)\n",
    "model.reset_states()\n",
    "testPredict = model.predict(testX, batch_size=batch_size)\n",
    "\n",
    "trainPredict2 = model2.predict(trainX2, batch_size=batch_size)\n",
    "model2.reset_states()\n",
    "testPredict2 = model2.predict(testX2, batch_size=batch_size)\n",
    "\n",
    "trainPredict = scaler.inverse_transform(trainPredict)\n",
    "trainY = scaler.inverse_transform([trainY])\n",
    "testPredict = scaler.inverse_transform(testPredict)\n",
    "testY = scaler.inverse_transform([testY])\n",
    "\n",
    "trainPredict2 = scaler.inverse_transform(trainPredict2)\n",
    "trainY2 = scaler.inverse_transform([trainY2])\n",
    "testPredict2 = scaler.inverse_transform(testPredict2)\n",
    "testY2 = scaler.inverse_transform([testY2])\n"
   ]
  },
  {
   "cell_type": "markdown",
   "metadata": {},
   "source": [
    "As suggested by Twomey’s and Smith’s (1995) paper we use the Mean Absolute Error (MAE) as presented in formula table (26) to evaluate the predictive accuracy of our models. Along with that, we calculate The Mean Squared Error (MSE) and the Root Mean Squared Error (RMSE).All these measures interpret the deviation of the forecasted value to the actual value as a positive number.\n",
    "\n"
   ]
  },
  {
   "cell_type": "markdown",
   "metadata": {},
   "source": [
    "(26)![Error%20formulas.png](graphs/Error%20formulas.png) (Twomey and Smith, 1995)"
   ]
  },
  {
   "cell_type": "code",
   "execution_count": 2,
   "metadata": {
    "scrolled": false
   },
   "outputs": [
    {
     "name": "stdout",
     "output_type": "stream",
     "text": [
      "*The MLP MAE Train Score: 0.01............. The MLP MAE Test Score: 0.02 \n",
      "\n",
      "*The LSTM MAE Train Score: 0.01............ The LSTM MAE Test Score: 0.02 \n",
      "\n",
      "\n",
      "*The MLP MSE Train Score: 0.00............. The MLP MSE Test Score: 0.00 \n",
      "\n",
      "*The LSTM MSE Train Score: 0.00............ The LSTM MSE Test Score: 0.00 \n",
      "\n",
      "\n",
      "*The MLP RMSE Train Score: 0.02............ The MLP RMSE  Test Score: 0.03 \n",
      "\n",
      "*The LSTM RMSE Train Score: 0.02........... The LSTM RMSE Test Score: 0.03 \n",
      "\n",
      "\n"
     ]
    }
   ],
   "source": [
    "\n",
    "trainScore = (mean_absolute_error(trainY[0], trainPredict[:,0]))\n",
    "testScore = (mean_absolute_error(testY[0], testPredict[:,0]))\n",
    "print('*The MLP MAE Train Score: %.2f.............'% (trainScore),'The MLP MAE Test Score: %.2f \\n'% (testScore))\n",
    "\n",
    "\n",
    "trainScore2 = (mean_absolute_error(trainY2[0], trainPredict2[:,0]))\n",
    "testScore2 =(mean_absolute_error(testY2[0], testPredict2[:,0])) \n",
    "print('*The LSTM MAE Train Score: %.2f............'% (trainScore2),'The LSTM MAE Test Score: %.2f \\n\\n'% (testScore2))\n",
    "\n",
    "\n",
    "trainScore = (mean_squared_error(trainY[0], trainPredict[:,0]))\n",
    "testScore = (mean_squared_error(testY[0], testPredict[:,0]))\n",
    "print('*The MLP MSE Train Score: %.2f.............'% (trainScore),'The MLP MSE Test Score: %.2f \\n'% (testScore))\n",
    "\n",
    "\n",
    "trainScore2 = (mean_squared_error(trainY2[0], trainPredict2[:,0]))\n",
    "testScore2 =(mean_squared_error(testY2[0], testPredict2[:,0])) \n",
    "print('*The LSTM MSE Train Score: %.2f............'% (trainScore2),'The LSTM MSE Test Score: %.2f \\n\\n'% (testScore2))\n",
    "\n",
    "\n",
    "trainScore = math.sqrt(mean_squared_error(trainY[0], trainPredict[:,0]))\n",
    "testScore = math.sqrt(mean_squared_error(testY[0], testPredict[:,0]))\n",
    "print('*The MLP RMSE Train Score: %.2f............'% (trainScore),'The MLP RMSE  Test Score: %.2f \\n'% (testScore))\n",
    "\n",
    "\n",
    "trainScore2 = math.sqrt(mean_squared_error(trainY2[0], trainPredict2[:,0]))\n",
    "testScore2 = math.sqrt(mean_squared_error(testY2[0], testPredict2[:,0])) \n",
    "print('*The LSTM RMSE Train Score: %.2f...........'% (trainScore2),'The LSTM RMSE Test Score: %.2f \\n\\n'% (testScore2))\n",
    "\n",
    "\n",
    "\n"
   ]
  },
  {
   "cell_type": "markdown",
   "metadata": {},
   "source": [
    "Contrary to Mean Absolute Error that weights equally all deviations to\n",
    "give the absolute mean, the Mean Squared Error and Root Mean Squared\n",
    "error are squaring the errors. As a result, they weight heavier the highly\n",
    "erroneous observations (Twomey and Smith, 1995). This makes the latter a\n",
    "good evaluation tool for models that instantaneous volatility matters the\n",
    "most."
   ]
  },
  {
   "cell_type": "code",
   "execution_count": 3,
   "metadata": {
    "scrolled": false
   },
   "outputs": [
    {
     "name": "stdout",
     "output_type": "stream",
     "text": [
      "--------------------------------------------------------------------------------\n",
      "--------------------------------------------------------------------------------\n",
      "Multi-Layered Perceptron Neural-Network.\n"
     ]
    },
    {
     "data": {
      "image/png": "[encoded data removed]",
      "text/plain": [
       "<Figure size 432x288 with 1 Axes>"
      ]
     },
     "metadata": {
      "needs_background": "light"
     },
     "output_type": "display_data"
    },
    {
     "data": {
      "image/png": "[encoded data removed]",
      "text/plain": [
       "<Figure size 432x288 with 1 Axes>"
      ]
     },
     "metadata": {
      "needs_background": "light"
     },
     "output_type": "display_data"
    },
    {
     "name": "stdout",
     "output_type": "stream",
     "text": [
      "--------------------------------------------------------------------------------\n",
      "--------------------------------------------------------------------------------\n",
      "LSTM Neural Network\n"
     ]
    },
    {
     "data": {
      "image/png": "[encoded data removed]",
      "text/plain": [
       "<Figure size 432x288 with 1 Axes>"
      ]
     },
     "metadata": {
      "needs_background": "light"
     },
     "output_type": "display_data"
    },
    {
     "data": {
      "image/png": "[encoded data removed]",
      "text/plain": [
       "<Figure size 432x288 with 1 Axes>"
      ]
     },
     "metadata": {
      "needs_background": "light"
     },
     "output_type": "display_data"
    }
   ],
   "source": [
    "\n",
    "trainPredictPlot = numpy.empty_like(dataset)\n",
    "trainPredictPlot[:, :] = numpy.nan\n",
    "trainPredictPlot[look_back:len(trainPredict)+look_back, :] = trainPredict\n",
    "\n",
    "testPredictPlot = numpy.empty_like(dataset)\n",
    "testPredictPlot[:, :] = numpy.nan\n",
    "testPredictPlot[len(trainPredict)+(look_back*2)+1:len(dataset)-1, :] = testPredict\n",
    "print ('-' * 80)\n",
    "print ('-' * 80)\n",
    "print(\"Multi-Layered Perceptron Neural-Network.\")\n",
    "\n",
    "plt.plot(scaler.inverse_transform(dataset))\n",
    "plt.show()\n",
    "plt.plot(trainPredictPlot)\n",
    "plt.plot(testPredictPlot)\n",
    "plt.show()\n",
    "\n",
    "\n",
    "print ('-' * 80)\n",
    "print ('-' * 80)\n",
    "\n",
    "\n",
    "trainPredictPlot2 = numpy.empty_like(dataset)\n",
    "trainPredictPlot2[:, :] = numpy.nan\n",
    "trainPredictPlot2[look_back2:len(trainPredict2)+look_back2, :] = trainPredict2\n",
    "\n",
    "\n",
    "testPredictPlot2 = numpy.empty_like(dataset)\n",
    "testPredictPlot2[:, :] = numpy.nan\n",
    "testPredictPlot2[len(trainPredict2)+(look_back2*2)+1:len(dataset)-1, :] = testPredict2\n",
    "\n",
    "print(\"LSTM Neural Network\") \n",
    "\n",
    "\n",
    "plt.plot(scaler.inverse_transform(dataset))\n",
    "plt.show()\n",
    "plt.plot(trainPredictPlot2)\n",
    "plt.plot(testPredictPlot2)\n",
    "plt.show()\n",
    "\n",
    "\n",
    "\n",
    "\n"
   ]
  },
  {
   "cell_type": "markdown",
   "metadata": {},
   "source": [
    "\n",
    "The first graph shows the predictions of the MLP model on the training (orange) and the testing (green) part of our sample. Comparing the MLP graph to traditional static econometic models we can see that the neural network captures more efficiently the volatility across the dataset. Especially in the last clusters of the testing sample, the performance is impressive. \n",
    "\n",
    "The Multilayered perceptron has several limitations when it comes to time series prediction mainly due to the static nature of its dependencies. Nevertheless, Multilayered perceptron’s can perform equal or better in situations that small time windows are used, and all the data involved is fed to the input layer at once. In situations like that the simplicity of the MLP neuron compared to the LSTM’s can save us computational time and memory. \n",
    "\n",
    "The second graph shows the predictions of the Long Short-Term Memory network. Like the Multilayered Perceptron above the model profoundly detects the volatility clusters on the dataset making it a very promising forecasting tool for volatility-based trading strategies.\n",
    "\n",
    "We can also observe how the LSTM captures more effectively the\n",
    "magnitude of the volatility clusters.The LSTM handles better the dependencies between time steps due to the way its nodes treat and store memory over time thus it can approximate the functional form in a dynamic way compared to the static Multilayered perceptron."
   ]
  },
  {
   "cell_type": "markdown",
   "metadata": {},
   "source": [
    "## Use the models with new data."
   ]
  },
  {
   "cell_type": "code",
   "execution_count": 4,
   "metadata": {},
   "outputs": [
    {
     "name": "stdout",
     "output_type": "stream",
     "text": [
      "Xnew=[-0.0294661  -0.0303173   0.0303173   0.10317302 -0.0303173 ], Predicted=[-0.02255099]\n",
      "------------------------------------------------------------------------------------------\n",
      "Place a Sell Order\n"
     ]
    }
   ],
   "source": [
    "\n",
    "Xnew = numpy.array([[-0.029466096, -0.030317302,0.030317302,0.10317302,-0.030317302]])\n",
    "\n",
    "ynew = model.predict(Xnew)\n",
    "\n",
    "print(\"Xnew=%s, Predicted=%s\" % (Xnew[0], ynew[0]))\n",
    "print('-'*90)\n",
    "if ynew>0:\n",
    "   print(\"Place a Buy Order\")\n",
    "if ynew<0:\n",
    "     print(\"Place a Sell Order\")\n"
   ]
  },
  {
   "cell_type": "code",
   "execution_count": 5,
   "metadata": {},
   "outputs": [
    {
     "name": "stdout",
     "output_type": "stream",
     "text": [
      "Xnew2=[[ 0.0294661 ]\n",
      " [ 0.10317302]\n",
      " [-0.50317302]], Predicted=[-0.08046673]\n",
      "--------------------------------------------------\n",
      "Place a Sell Order\n"
     ]
    }
   ],
   "source": [
    "\n",
    "Xnew2 = numpy.array([[0.029466096, 0.10317302,-0.50317302]])\n",
    "\n",
    "\n",
    "Xnew2 = numpy.reshape(Xnew2, (Xnew2.shape[0], Xnew2.shape[1], 1))\n",
    "\n",
    "ynew2 = model2.predict(Xnew2)\n",
    "\n",
    "print(\"Xnew2=%s, Predicted=%s\" % (Xnew2[0], ynew2[0]))\n",
    "print('-'* 50)\n",
    "\n",
    "if ynew2>0:\n",
    "   print(\"Place a Buy Order\")\n",
    "if ynew2<0:\n",
    "     print(\"Place a Sell Order\")\n",
    "  "
   ]
  },
  {
   "cell_type": "markdown",
   "metadata": {},
   "source": [
    "### References\n",
    "\n",
    "[1].Eck and J. Schmidhuber (2002) Learning the long-term structure\n",
    "of the blues. In Proc. of ICANN, 284-289.\n",
    "\n",
    "[2].Graves, A. and Mohamed, A. and Hinton, G. (2013) Speech\n",
    "recognition with deep recurrent neural networks. In Proc. of\n",
    "ICASSP, 6645-6649.\n",
    "\n",
    "[3].Graves, A. and Schmidhuber, J. (2005) Framewise phoneme\n",
    "classification with bidirectional LSTM and other neural network\n",
    "architectures. Neural Networks, 18(5), 602-610.\n",
    "\n",
    "[4].Haykin S. (1998) Neural Networks: A Comprehensive Foundation.\n",
    "Ontario, Pearson Education.\n",
    "\n",
    "[5].Hinton, G.andTieleman, T.(2012) Lecture 6.5-rmsprop: Divide the\n",
    "gradient by a running average of its recent magnitude\n",
    "COURSERA: Neural networks for machine learning 4 (2), 26-31.\n",
    "\n",
    "[6].Hochreiter, S. and Schmidhuber, J. (1997) Long short-term\n",
    "memory. Neural Computation, 9(8),1735-1780.\n",
    "\n",
    "[7].Rumelhart, D., Hinton, G. E. and Williams. R. J. (1986). Learning\n",
    "representation by back-propagating errors. Nature, 323, 533-536.\n",
    "\n",
    "[8].Sundermeyer, M. and Schluter, R. and Ney, H. (2012) LSTM neural\n",
    "networks forlanguage modeling.[online]Available:\n",
    "https://pdfs.semanticscholar.org/f9a1/b3850dfd837793743565a8af95973d395a4e.pdf [Accessed 22 January 2018]\n",
    "\n",
    "[9].Twomey, J.M. and Smith, A.E (1995) Performance measures,\n",
    "consistency and power for artificial neural network models.\n",
    "Mathematical and Computer Modeling, 21(2), 243-258.\n",
    "\n",
    "\n",
    "[10].Wollmer, M. and Kaiser, M. and Eyben, F. and Weninger F. and\n",
    "Schuller B.\n",
    "and Rigoll G. (2012) Fully automatic audiovisual\n",
    "emotion recognition-voice, words, and the face. In Proceedings\n",
    "of Speech Communication; 10. ITG Symposium, 1-4.\n"
   ]
  }
 ],
 "metadata": {
  "kernelspec": {
   "display_name": "Python 3",
   "language": "python",
   "name": "python3"
  },
  "language_info": {
   "codemirror_mode": {
    "name": "ipython",
    "version": 3
   },
   "file_extension": ".py",
   "mimetype": "text/x-python",
   "name": "python",
   "nbconvert_exporter": "python",
   "pygments_lexer": "ipython3",
   "version": "3.6.6"
  }
 },
 "nbformat": 4,
 "nbformat_minor": 2
}
